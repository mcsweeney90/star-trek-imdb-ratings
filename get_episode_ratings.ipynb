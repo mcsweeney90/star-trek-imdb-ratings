{
 "cells": [
  {
   "cell_type": "markdown",
   "id": "fbfc989b-7e45-449b-b439-989d0e392144",
   "metadata": {},
   "source": [
    "# Classic Star Trek episode IMDb ratings \n",
    "\n",
    "In this notebook I retrieve the episode ratings for all of the classic* live-action Star Trek TV series from the [IMDb](https://www.imdb.com/) website, format the data into a nice form, and save as a `pandas` dataframe for ease of future use. \n",
    "\n",
    "I don't have any experience with web scraping - this project was partially an excuse to get some - so I mostly followed the simple tutorial [here](https://isabella-b.com/blog/scraping-episode-imdb-ratings-tutorial/). \n",
    "\n",
    "<sub>*defined as \"not currently airing new episodes\"<sub>"
   ]
  },
  {
   "cell_type": "code",
   "execution_count": 6,
   "id": "a4e00c07-a3e2-4cbc-a02f-4ce68fa7c1b1",
   "metadata": {},
   "outputs": [],
   "source": [
    "import pandas as pd\n",
    "import pathlib\n",
    "\n",
    "from requests import get\n",
    "from bs4 import BeautifulSoup    "
   ]
  },
  {
   "cell_type": "code",
   "execution_count": 7,
   "id": "956455a8-87a6-406f-b2f7-6bb41074b6e8",
   "metadata": {},
   "outputs": [],
   "source": [
    "def get_episodes_df(show_id, seasons):\n",
    "    \"\"\"\n",
    "    Get all episodes of a show from the specified range of seasons and return dataframe with info from IMDB.\n",
    "    TODO: \n",
    "        1. Get show_id based on string e.g., \"TNG\" -> 0092455.\n",
    "        2. How to get range of seasons? Breaking limit defaults to last season...\n",
    "    \"\"\"   \n",
    "    \n",
    "    episodes = {'season' : [], \n",
    "                'episode_number' : [],\n",
    "                'title' : [], \n",
    "                'airdate' : [],\n",
    "                'rating' : [], \n",
    "                'total_votes' : [], \n",
    "                'desc' : []}\n",
    "\n",
    "    # Iterate over seasons\n",
    "    for sn in seasons:\n",
    "        response = get(f'https://www.imdb.com/title/tt{show_id}/episodes?season={sn}')\n",
    "\n",
    "        # Parse content of the request with BeautifulSoup\n",
    "        page_html = BeautifulSoup(response.text, 'html.parser')\n",
    "\n",
    "        # For each episode in each season\n",
    "        for episode in page_html.find_all('div', class_ = 'info'):\n",
    "                # Save the info\n",
    "                episodes[\"season\"].append(sn)\n",
    "                episodes[\"episode_number\"].append(episode.meta['content'])\n",
    "                episodes[\"title\"].append(episode.a['title'])\n",
    "                episodes[\"airdate\"].append(episode.find('div', class_='airdate').text.strip())\n",
    "                episodes[\"rating\"].append(episode.find('span', class_='ipl-rating-star__rating').text)\n",
    "                episodes[\"total_votes\"].append(episode.find('span', class_='ipl-rating-star__total-votes').text)\n",
    "                episodes[\"desc\"].append(episode.find('div', class_='item_description').text.strip())    \n",
    "    \n",
    "    # Convert to dataframe\n",
    "    df = pd.DataFrame(episodes)\n",
    "    \n",
    "    # Clean up\n",
    "    # Episode number to int\n",
    "    df['episode_number'] = df.episode_number.astype(int)\n",
    "    # Convert total votes to int\n",
    "    df['total_votes'] = df.total_votes.apply(lambda v : int(v.replace(',', '')[1:-1]))\n",
    "    # Make rating numeric\n",
    "    df['rating'] = df.rating.astype(float)\n",
    "    # Airdate to datetime\n",
    "    df['airdate'] = pd.to_datetime(df.airdate)\n",
    "    \n",
    "    # Return the dataframe\n",
    "    return df     "
   ]
  },
  {
   "cell_type": "markdown",
   "id": "7947f719-772d-44a7-82cb-ef803f64b106",
   "metadata": {},
   "source": [
    "Now let's create and save episode info dataframes for each of the series, as well as one big dataframe which combines them all. "
   ]
  },
  {
   "cell_type": "code",
   "execution_count": 8,
   "id": "32eb7151-aa86-45d6-801f-6931ac7c89b9",
   "metadata": {},
   "outputs": [],
   "source": [
    "shows_and_num_seasons = {\"TOS\" : (\"0060028\", 3), \n",
    "                        \"TNG\" : (\"0092455\", 7), \n",
    "                        \"DS9\" : (\"0106145\", 7), \n",
    "                        \"VOY\" : (\"0112178\", 7), \n",
    "                        \"ENT\" : (\"0244365\", 4)}\n",
    "\n",
    "dest = pathlib.Path('imdb-ratings/')\n",
    "dest.mkdir(parents=True, exist_ok=True)\n",
    "\n",
    "all_trek = []\n",
    "for show, info in shows_and_num_seasons.items():\n",
    "    imdb_id, n_seasons = info\n",
    "    df = get_episodes_df(imdb_id, range(1, n_seasons + 1))\n",
    "    df.to_pickle(f\"{dest}/{show}\") \n",
    "    # Add series column for complete Trek dataframe\n",
    "    df[\"series\"] = show\n",
    "    all_trek.append(df)\n",
    "\n",
    "# Save complete dataframe\n",
    "trek = pd.concat(all_trek, ignore_index=True)\n",
    "trek.to_pickle(f\"{dest}/TREK\")\n",
    "# Save human-readable version as well\n",
    "trek.to_csv(f\"{dest}/TREK.csv\")"
   ]
  }
 ],
 "metadata": {
  "interpreter": {
   "hash": "0eddf022b1ba7ef009886e7f853cb89f1a76f004bf40fa3b538c5fb573d014d5"
  },
  "kernelspec": {
   "display_name": "Python 3.9.12 ('defaultenv3.9')",
   "language": "python",
   "name": "python3"
  },
  "language_info": {
   "codemirror_mode": {
    "name": "ipython",
    "version": 3
   },
   "file_extension": ".py",
   "mimetype": "text/x-python",
   "name": "python",
   "nbconvert_exporter": "python",
   "pygments_lexer": "ipython3",
   "version": "3.9.12"
  }
 },
 "nbformat": 4,
 "nbformat_minor": 5
}
